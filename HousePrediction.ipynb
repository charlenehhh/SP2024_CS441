{
 "cells": [
  {
   "cell_type": "code",
   "execution_count": 7,
   "metadata": {},
   "outputs": [],
   "source": [
    "import pandas as pd\n",
    "import matplotlib.pyplot as plt\n",
    "import seaborn as sns\n",
    "import numpy as np\n",
    "from scipy.stats import skew, norm\n",
    "\n",
    "from sklearn.metrics import mean_squared_error\n",
    "from sklearn.metrics import make_scorer\n",
    "from sklearn.model_selection import cross_val_score\n",
    "from sklearn.model_selection import train_test_split\n",
    "from sklearn.model_selection import GridSearchCV\n",
    "\n",
    "from sklearn.ensemble import RandomForestRegressor\n",
    "from sklearn.linear_model import LinearRegression\n",
    "from sklearn.linear_model import Ridge\n",
    "from sklearn.ensemble import GradientBoostingRegressor"
   ]
  },
  {
   "cell_type": "code",
   "execution_count": 9,
   "metadata": {},
   "outputs": [],
   "source": [
    "def split_dataset(dataset, test_ratio=0.10):\n",
    "  test_indices = np.random.rand(len(dataset)) < test_ratio\n",
    "  return dataset[~test_indices], dataset[test_indices]\n",
    "\n",
    "def handle_missing(features):\n",
    "    # the data description states that NA refers to typical ('Typ') values\n",
    "    features['Functional'] = features['Functional'].fillna('Typ')\n",
    "    # Replace the missing values in each of the columns below with their mode\n",
    "    features['Electrical'] = features['Electrical'].fillna(\"SBrkr\")\n",
    "    features['KitchenQual'] = features['KitchenQual'].fillna(\"TA\")\n",
    "    features['Exterior1st'] = features['Exterior1st'].fillna(features['Exterior1st'].mode()[0])\n",
    "    features['Exterior2nd'] = features['Exterior2nd'].fillna(features['Exterior2nd'].mode()[0])\n",
    "    features['SaleType'] = features['SaleType'].fillna(features['SaleType'].mode()[0])\n",
    "    features['MSZoning'] = features.groupby('MSSubClass')['MSZoning'].transform(lambda x: x.fillna(x.mode()[0]))\n",
    "    \n",
    "    # the data description stats that NA refers to \"No Pool\"\n",
    "    features[\"PoolQC\"] = features[\"PoolQC\"].fillna(\"None\")\n",
    "    # Replacing the missing values with 0, since no garage = no cars in garage\n",
    "    for col in ('GarageYrBlt', 'GarageArea', 'GarageCars'):\n",
    "        features[col] = features[col].fillna(0)\n",
    "    # Replacing the missing values with None\n",
    "    for col in ['GarageType', 'GarageFinish', 'GarageQual', 'GarageCond']:\n",
    "        features[col] = features[col].fillna('None')\n",
    "    # NaN values for these categorical basement features, means there's no basement\n",
    "    for col in ('BsmtQual', 'BsmtCond', 'BsmtExposure', 'BsmtFinType1', 'BsmtFinType2'):\n",
    "        features[col] = features[col].fillna('None')\n",
    "        \n",
    "    # Group the by neighborhoods, and fill in missing value by the median LotFrontage of the neighborhood\n",
    "    features['LotFrontage'] = features.groupby('Neighborhood')['LotFrontage'].transform(lambda x: x.fillna(x.median()))\n",
    "\n",
    "    # We have no particular intuition around how to fill in the rest of the categorical features\n",
    "    # So we replace their missing values with None\n",
    "    objects = []\n",
    "    for i in features.columns:\n",
    "        if features[i].dtype == object:\n",
    "            objects.append(i)\n",
    "    features.update(features[objects].fillna('None'))\n",
    "        \n",
    "    # And we do the same thing for numerical features, but this time with 0s\n",
    "    numeric_dtypes = ['int16', 'int32', 'int64', 'float16', 'float32', 'float64']\n",
    "    numeric = []\n",
    "    for i in features.columns:\n",
    "        if features[i].dtype in numeric_dtypes:\n",
    "            numeric.append(i)\n",
    "    features.update(features[numeric].fillna(0))    \n",
    "    return features\n",
    "\n",
    "def percent_missing(df):\n",
    "    data = pd.DataFrame(df)\n",
    "    df_cols = list(pd.DataFrame(data))\n",
    "    dict_x = {}\n",
    "    for i in range(0, len(df_cols)):\n",
    "        dict_x.update({df_cols[i]: round(data[df_cols[i]].isnull().mean()*100,2)})\n",
    "    \n",
    "    return dict_x\n",
    "\n",
    "# Define error metrics\n",
    "def rmse(y, y_pred):\n",
    "    return np.sqrt(mean_squared_error(y, y_pred))"
   ]
  },
  {
   "cell_type": "markdown",
   "metadata": {},
   "source": [
    "## Find best model and hyperparameters"
   ]
  },
  {
   "cell_type": "code",
   "execution_count": 2,
   "metadata": {},
   "outputs": [],
   "source": [
    "def load_data():\n",
    "    test = pd.read_csv(\"./data/test.csv\")\n",
    "    train = pd.read_csv(\"./data/train.csv\")\n",
    "\n",
    "    # print(\"Full train dataset shape is {}\".format(train.shape))\n",
    "    # print(\"Full test dataset shape is {}\".format(test.shape))\n",
    "\n",
    "    # Store and remove Id column\n",
    "    train_id = train[\"Id\"]\n",
    "    test_id = test[\"Id\"]\n",
    "    train = train.drop(labels='Id', axis=1)\n",
    "    test = test.drop(labels='Id', axis=1)\n",
    "    # print(\"Id column removed\")\n",
    "    # print(\"Full train dataset shape is {}\".format(train.shape))\n",
    "    # print(\"Full test dataset shape is {}\".format(test.shape))\n",
    "    return train, test "
   ]
  },
  {
   "cell_type": "code",
   "execution_count": 20,
   "metadata": {},
   "outputs": [],
   "source": [
    "def preprocess_data(train, test):\n",
    "    # normalize data\n",
    "    train[\"SalePrice\"] = np.log1p(train[\"SalePrice\"])\n",
    "\n",
    "    train, val = split_dataset(train)\n",
    "\n",
    "    # Split features and labels\n",
    "    train_labels = train['SalePrice'].reset_index(drop=True)\n",
    "    train_features = train.drop(['SalePrice'], axis=1)\n",
    "\n",
    "    val_labels = val['SalePrice'].reset_index(drop=True)\n",
    "    val_features = val.drop(['SalePrice'], axis=1)\n",
    "\n",
    "    test_features = test\n",
    "    # print(\"Training feature shape: {}, Validation feature shape: {}\".format(\n",
    "    #     train_features.shape, val_features.shape))\n",
    "\n",
    "    TRAIN_COUNT = len(train_features)\n",
    "    TEST_COUNT = len(test_features)\n",
    "    VAL_COUNT = len(val_features)\n",
    "\n",
    "    # Combine train and test features in order to apply the feature transformation pipeline to the entire dataset\n",
    "    all_features = pd.concat([train_features, test_features, val_features]).reset_index(drop=True)\n",
    "    # Handle missing data\n",
    "    all_features['MSSubClass'] = all_features['MSSubClass'].apply(str)\n",
    "    all_features['YrSold'] = all_features['YrSold'].astype(str)\n",
    "    all_features['MoSold'] = all_features['MoSold'].astype(str)\n",
    "\n",
    "    all_features = handle_missing(all_features)\n",
    "\n",
    "    # Transform categorial data\n",
    "    all_features = pd.get_dummies(all_features).reset_index(drop=True)\n",
    "    \n",
    "    # Remove any duplicated column names\n",
    "    all_features = all_features.loc[:,~all_features.columns.duplicated()]\n",
    "    # print(\"All features shape\", all_features.shape)\n",
    "\n",
    "    # Recreate training and testing sets\n",
    "    train_features = all_features.iloc[:TRAIN_COUNT,:]\n",
    "    test_features = all_features.iloc[TRAIN_COUNT:TRAIN_COUNT+TEST_COUNT,:]\n",
    "    val_features = all_features.iloc[TRAIN_COUNT+TEST_COUNT:TRAIN_COUNT+TEST_COUNT+VAL_COUNT, :]\n",
    "    # print(\"Train features shape\", train_features.shape)\n",
    "    # print(\"Val features shape\", val_features.shape)\n",
    "\n",
    "    return train_features, train_labels, val_features, val_labels, test_features"
   ]
  },
  {
   "cell_type": "code",
   "execution_count": 13,
   "metadata": {},
   "outputs": [],
   "source": [
    "train, test = load_data()\n",
    "train_features, train_labels, val_features, val_labels, test_features = preprocess_data(train, test, 0.9)"
   ]
  },
  {
   "cell_type": "code",
   "execution_count": 14,
   "metadata": {},
   "outputs": [
    {
     "name": "stdout",
     "output_type": "stream",
     "text": [
      "n_estimators:  100   max_depth:  None\n",
      "Validation Error 0.13380480427603858   Train Error 0.053190708054321106\n",
      "\n",
      "n_estimators:  100   max_depth:  10\n",
      "Validation Error 0.136736969178756   Train Error 0.06247681190952879\n",
      "\n",
      "n_estimators:  100   max_depth:  20\n",
      "Validation Error 0.13278628192373154   Train Error 0.05429030585716033\n",
      "\n",
      "n_estimators:  200   max_depth:  None\n",
      "Validation Error 0.1337316376675148   Train Error 0.05305468479231673\n",
      "\n",
      "n_estimators:  200   max_depth:  10\n",
      "Validation Error 0.13461139691233512   Train Error 0.06263754331870247\n",
      "\n",
      "n_estimators:  200   max_depth:  20\n",
      "Validation Error 0.1315425902246173   Train Error 0.05312160039385449\n",
      "\n",
      "n_estimators:  300   max_depth:  None\n",
      "Validation Error 0.13396580984433945   Train Error 0.05314114348584276\n",
      "\n",
      "n_estimators:  300   max_depth:  10\n",
      "Validation Error 0.134202948374877   Train Error 0.061667366104509284\n",
      "\n",
      "n_estimators:  300   max_depth:  20\n",
      "Validation Error 0.13387299738745576   Train Error 0.05374229501439282\n",
      "\n"
     ]
    }
   ],
   "source": [
    "# Random Forest\n",
    "n_estimators = [100, 200, 300]\n",
    "max_depth = [None, 10, 20]\n",
    "\n",
    "for n in n_estimators:\n",
    "    for md in max_depth:\n",
    "        rf = RandomForestRegressor(max_depth=md, n_estimators=n)\n",
    "        rf.fit(train_features, train_labels)\n",
    "        val_error = rmse(rf.predict(val_features),val_labels)\n",
    "        train_error = rmse(rf.predict(train_features), train_labels)\n",
    "        print(\"n_estimators: \", n, \" \", \"max_depth: \",md )\n",
    "        print(\"Validation Error\", val_error, \" \",\"Train Error\", train_error)\n",
    "        print(\"\")"
   ]
  },
  {
   "cell_type": "code",
   "execution_count": 259,
   "metadata": {},
   "outputs": [
    {
     "name": "stdout",
     "output_type": "stream",
     "text": [
      "alpha:  0.01\n",
      "Validation Error: 0.2318683499556494\n",
      "Train Error: 0.0773787336571522\n",
      "\n",
      "alpha:  0.1\n",
      "Validation Error: 0.1848303679594212\n",
      "Train Error: 0.07950010909016399\n",
      "\n"
     ]
    },
    {
     "name": "stdout",
     "output_type": "stream",
     "text": [
      "alpha:  1.0\n",
      "Validation Error: 0.14774831415326378\n",
      "Train Error: 0.08887857664529404\n",
      "\n",
      "alpha:  10.0\n",
      "Validation Error: 0.13332631936096456\n",
      "Train Error: 0.10701736242128228\n",
      "\n"
     ]
    },
    {
     "data": {
      "image/png": "[encoded data removed]",
      "text/plain": [
       "<Figure size 576x432 with 1 Axes>"
      ]
     },
     "metadata": {},
     "output_type": "display_data"
    }
   ],
   "source": [
    "# Ridge\n",
    "alpha = [0.01, 0.1, 1.0, 10.0]  # Example values for regularization strength\n",
    "\n",
    "val_errors = []\n",
    "train_errors = []\n",
    "\n",
    "for a in alpha:\n",
    "    ridge = Ridge(alpha=a)\n",
    "    ridge.fit(train_features, train_labels)\n",
    "    val_error = rmse(ridge.predict(val_features), val_labels)\n",
    "    train_error = rmse(ridge.predict(train_features), train_labels)\n",
    "    val_errors.append(val_error)\n",
    "    train_errors.append(train_error)\n",
    "    print(\"alpha: \", a)\n",
    "    print(\"Validation Error:\", val_error)\n",
    "    print(\"Train Error:\", train_error)\n",
    "    print(\"\")\n",
    "\n",
    "# Plotting\n",
    "plt.figure(figsize=(8, 6))\n",
    "plt.plot(alpha, val_errors, label='Validation Error', marker='o')\n",
    "plt.plot(alpha, train_errors, label='Train Error', marker='o')\n",
    "plt.xscale('log')\n",
    "plt.xlabel('Alpha (Regularization Strength)')\n",
    "plt.ylabel('RMSE')\n",
    "plt.title('Validation and Train Error vs Alpha (Ridge Regression)')\n",
    "plt.legend()\n",
    "plt.show()"
   ]
  },
  {
   "cell_type": "code",
   "execution_count": 15,
   "metadata": {},
   "outputs": [
    {
     "name": "stdout",
     "output_type": "stream",
     "text": [
      "n_estimators:  100   learning rate:  0.01\n",
      "Validation Error 0.2015965074721442   Train Error 0.22589547359397996\n",
      "\n",
      "n_estimators:  100   learning rate:  0.1\n",
      "Validation Error 0.11721382480167818   Train Error 0.07927410330299234\n",
      "\n",
      "n_estimators:  100   learning rate:  0.5\n",
      "Validation Error 0.12909355054684257   Train Error 0.04249823093554201\n",
      "\n",
      "n_estimators:  200   learning rate:  0.01\n",
      "Validation Error 0.15015433336753267   Train Error 0.15555814403628376\n",
      "\n",
      "n_estimators:  200   learning rate:  0.1\n",
      "Validation Error 0.1170041317234934   Train Error 0.06161679619590923\n",
      "\n",
      "n_estimators:  200   learning rate:  0.5\n",
      "Validation Error 0.12670696901352432   Train Error 0.02014462671609269\n",
      "\n",
      "n_estimators:  300   learning rate:  0.01\n",
      "Validation Error 0.1306018078346519   Train Error 0.1253526295876217\n",
      "\n",
      "n_estimators:  300   learning rate:  0.1\n",
      "Validation Error 0.11905363073063295   Train Error 0.051049993157500716\n",
      "\n",
      "n_estimators:  300   learning rate:  0.5\n",
      "Validation Error 0.12317036556345759   Train Error 0.01036151271009409\n",
      "\n"
     ]
    }
   ],
   "source": [
    "# Gradient Boosting Regressor\n",
    "n_estimators = [100, 200, 300]\n",
    "learning_rate = [0.01, 0.1, 0.5]\n",
    "\n",
    "\n",
    "for n in n_estimators:\n",
    "    for lr in learning_rate:\n",
    "        gbr = GradientBoostingRegressor(n_estimators=n, learning_rate=lr)\n",
    "        gbr.fit(train_features, train_labels)\n",
    "        val_error = rmse(gbr.predict(val_features),val_labels)\n",
    "        train_error = rmse(gbr.predict(train_features), train_labels)\n",
    "        print(\"n_estimators: \", n, \" \", \"learning rate: \",lr )\n",
    "        print(\"Validation Error\", val_error, \" \",\"Train Error\", train_error)\n",
    "        print(\"\")"
   ]
  },
  {
   "cell_type": "code",
   "execution_count": 267,
   "metadata": {},
   "outputs": [],
   "source": [
    "# Retrain best model and parameters on full data\n",
    "train, test = load_data()\n",
    "train_features, train_labels, val_features, val_labels, test_features = preprocess_data(train, test, 1)\n",
    "\n",
    "full_train_features = pd.concat([train_features, val_features]) \n",
    "full_train_labels = pd.concat([train_labels, val_labels]) \n",
    "gbr = GradientBoostingRegressor(n_estimators=200, learning_rate=0.1)\n",
    "\n",
    "gbr.fit(full_train_features, full_train_labels)\n",
    "\n",
    "submission = pd.read_csv(\"./data/sample_submission.csv\")\n",
    "predictions = np.floor(np.expm1(gbr.predict(test_features)))\n",
    "submission.iloc[:,1] = predictions\n",
    "submission.to_csv(\"submission.csv\", index=False)"
   ]
  },
  {
   "cell_type": "markdown",
   "metadata": {},
   "source": [
    "### Compare Training Size"
   ]
  },
  {
   "cell_type": "code",
   "execution_count": 5,
   "metadata": {},
   "outputs": [],
   "source": [
    "def train_with_best_params(train_features, train_labels):  \n",
    "    rf = RandomForestRegressor(max_depth=None, n_estimators=100)\n",
    "    rf.fit(train_features, train_labels)\n",
    "\n",
    "    ridge = Ridge(alpha=10)\n",
    "    ridge.fit(train_features, train_labels)\n",
    "\n",
    "    gbr = GradientBoostingRegressor(n_estimators=200, learning_rate=0.1)\n",
    "    gbr.fit(train_features, train_labels)\n",
    "\n",
    "    return rf, ridge, gbr\n",
    "\n",
    "def predict(model, name, ratio, test_features):\n",
    "    submission = pd.read_csv(\"./data/sample_submission.csv\")\n",
    "    predictions = np.floor(np.expm1(model.predict(test_features)))\n",
    "    submission.iloc[:,1] = predictions\n",
    "    submission.to_csv(\"submission_\" + name + \"_\" + str(ratio) + \".csv\", index=False)"
   ]
  },
  {
   "cell_type": "code",
   "execution_count": 37,
   "metadata": {},
   "outputs": [
    {
     "data": {
      "image/png": "[encoded data removed]",
      "text/plain": [
       "<Figure size 720x432 with 1 Axes>"
      ]
     },
     "metadata": {
      "needs_background": "light"
     },
     "output_type": "display_data"
    }
   ],
   "source": [
    "ratio_values = [0.01, 0.05, 0.1, 0.25, 0.5, 1]\n",
    "\n",
    "rf_rmse_values = []\n",
    "ridge_rmse_values = []\n",
    "gbr_rmse_values = []\n",
    "for ratio in ratio_values:\n",
    "    train, test = load_data()\n",
    "    train_features, train_labels, val_features, val_labels, test_features = preprocess_data(train, test)\n",
    "\n",
    "    train_features = train_features[:int(len(train_features) * ratio)]\n",
    "    train_labels = train_labels[:int(len(train_labels) * ratio)]\n",
    "    \n",
    "    rf, ridge, gbr = train_with_best_params(train_features, train_labels)\n",
    "    rf_rmse = rmse(rf.predict(val_features),val_labels)\n",
    "    ridge_rmse = rmse(ridge.predict(val_features),val_labels)\n",
    "    gbr_rmse = rmse(gbr.predict(val_features),val_labels)\n",
    "\n",
    "    rf_rmse_values.append(rf_rmse)\n",
    "    ridge_rmse_values.append(ridge_rmse)\n",
    "    gbr_rmse_values.append(gbr_rmse)\n",
    "\n",
    "# Plotting\n",
    "plt.figure(figsize=(10, 6))\n",
    "\n",
    "plt.plot(ratio_values, rf_rmse_values, label='Random Forest', marker='o')\n",
    "plt.plot(ratio_values, ridge_rmse_values, label='Ridge Regression', marker='o')\n",
    "plt.plot(ratio_values, gbr_rmse_values, label='Gradient Boosting Regression', marker='o')\n",
    "\n",
    "plt.xlabel('Training size')\n",
    "plt.ylabel('RMSE')\n",
    "plt.title('RMSE for Each Model at Training size')\n",
    "plt.legend()\n",
    "plt.grid(True)\n",
    "plt.show()\n",
    "\n"
   ]
  },
  {
   "cell_type": "markdown",
   "metadata": {},
   "source": [
    "### Stretch Goals"
   ]
  },
  {
   "cell_type": "code",
   "execution_count": 16,
   "metadata": {},
   "outputs": [],
   "source": [
    "# Blend models in order to make the final predictions more robust to overfitting\n",
    "def predict_blended(rf, ridge, gbr, test_features):\n",
    "    return ((0.25 * rf.predict(test_features)) + \\\n",
    "            (0.25 * ridge.predict(test_features)) + \\\n",
    "            (0.5 * gbr.predict(test_features)))"
   ]
  },
  {
   "cell_type": "code",
   "execution_count": 17,
   "metadata": {},
   "outputs": [],
   "source": [
    "train, test = load_data()\n",
    "train_features, train_labels, val_features, val_labels, test_features = preprocess_data(train, test, 1)\n",
    "rf_model, ridge_model, gbr_model = train_with_best_params(train_features, train_labels)\n",
    "predictions = np.floor(np.expm1(predict_blended(rf_model, ridge_model, gbr_model, test_features)))\n",
    "submission = pd.read_csv(\"./data/sample_submission.csv\")\n",
    "submission.iloc[:,1] = predictions\n",
    "submission.to_csv(\"blended.csv\", index=False)"
   ]
  }
 ],
 "metadata": {
  "kernelspec": {
   "display_name": "Python 3",
   "language": "python",
   "name": "python3"
  },
  "language_info": {
   "codemirror_mode": {
    "name": "ipython",
    "version": 3
   },
   "file_extension": ".py",
   "mimetype": "text/x-python",
   "name": "python",
   "nbconvert_exporter": "python",
   "pygments_lexer": "ipython3",
   "version": "3.10.4"
  }
 },
 "nbformat": 4,
 "nbformat_minor": 2
}
